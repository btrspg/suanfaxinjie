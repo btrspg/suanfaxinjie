{
 "cells": [
  {
   "cell_type": "markdown",
   "metadata": {},
   "source": [
    "## 最小ID"
   ]
  },
  {
   "cell_type": "code",
   "execution_count": 1,
   "metadata": {},
   "outputs": [],
   "source": [
    "using StatsBase\n",
    "## 20万个id\n",
    "n=200_001\n",
    "ids=sample(1:n,n-1,replace=false);"
   ]
  },
  {
   "cell_type": "code",
   "execution_count": 2,
   "metadata": {},
   "outputs": [
    {
     "data": {
      "text/plain": [
       "min_id_change_2 (generic function with 1 method)"
      ]
     },
     "execution_count": 2,
     "metadata": {},
     "output_type": "execute_result"
    }
   ],
   "source": [
    "## for嵌套for\n",
    "function min_id_for_and_for(x::Array{Int64})::Int64\n",
    "    for i = 1:length(x)\n",
    "        not_has_id = true\n",
    "        for j =1:length(x)\n",
    "            if i == x[j]\n",
    "                not_has_id =false\n",
    "            end\n",
    "        end\n",
    "        if not_has_id\n",
    "            return i\n",
    "        end\n",
    "    end\n",
    "    return length(x)\n",
    "end\n",
    "\n",
    "## for+in\n",
    "function min_id_for_and_in(x::Array{Int64})::Int64\n",
    "    for i = 1:length(x)\n",
    "        if i in x\n",
    "            continue\n",
    "        else\n",
    "            return i\n",
    "        end\n",
    "    end\n",
    "    return length(x)\n",
    "end\n",
    "\n",
    "## 书中方法改进一\n",
    "function min_id_change_1(x::Array{Int64})::Int64\n",
    "    myfalse = trues(length(x))\n",
    "    for i in x\n",
    "        if i <= length(x)\n",
    "            myfalse[i]=false\n",
    "        end\n",
    "    end\n",
    "    for i=1:length(myfalse)\n",
    "        if myfalse[i]\n",
    "            return i\n",
    "        end\n",
    "    end\n",
    "    return length(x)+1\n",
    "end\n",
    "\n",
    "\n",
    "## 书中方法改进二\n",
    "function min_id_change_2(x,l,u)::Int64\n",
    "    n = length(x)    \n",
    "    while n > 0\n",
    "\n",
    "        middle = floor((l+u)/2)\n",
    "        left=l   \n",
    "        for right = l:n+l-1\n",
    "            if x[right] <= middle\n",
    "                tmp = x[right]\n",
    "                x[right] = x[left]\n",
    "                x[left] = tmp\n",
    "                left = left +1\n",
    "            end\n",
    "        end\n",
    "        if left == middle+1\n",
    "            n = n - left + l\n",
    "            l = left\n",
    "        else\n",
    "            u = left\n",
    "            n = left-l\n",
    "        end\n",
    "    end\n",
    "    return l       \n",
    "end\n",
    "    "
   ]
  },
  {
   "cell_type": "code",
   "execution_count": 3,
   "metadata": {},
   "outputs": [
    {
     "name": "stdout",
     "output_type": "stream",
     "text": [
      "  1.057379 seconds (19.06 k allocations: 963.168 KiB)\n",
      "  1.047457 seconds (5 allocations: 176 bytes)\n"
     ]
    },
    {
     "data": {
      "text/plain": [
       "5192"
      ]
     },
     "execution_count": 3,
     "metadata": {},
     "output_type": "execute_result"
    }
   ],
   "source": [
    "## 使用for嵌套for\n",
    "@time min_id_for_and_for(ids)\n",
    "@time min_id_for_and_for(ids)"
   ]
  },
  {
   "cell_type": "code",
   "execution_count": 4,
   "metadata": {},
   "outputs": [
    {
     "name": "stdout",
     "output_type": "stream",
     "text": [
      "  0.272523 seconds (16.72 k allocations: 844.855 KiB)\n",
      "  0.262756 seconds (5 allocations: 176 bytes)\n"
     ]
    },
    {
     "data": {
      "text/plain": [
       "5192"
      ]
     },
     "execution_count": 4,
     "metadata": {},
     "output_type": "execute_result"
    }
   ],
   "source": [
    "## 使用for+in\n",
    "@time min_id_for_and_in(ids)\n",
    "@time min_id_for_and_in(ids)"
   ]
  },
  {
   "cell_type": "code",
   "execution_count": 5,
   "metadata": {},
   "outputs": [
    {
     "name": "stdout",
     "output_type": "stream",
     "text": [
      "  0.040896 seconds (49.59 k allocations: 2.455 MiB, 14.47% gc time)\n",
      "  0.000660 seconds (8 allocations: 24.719 KiB)\n"
     ]
    },
    {
     "data": {
      "text/plain": [
       "5192"
      ]
     },
     "execution_count": 5,
     "metadata": {},
     "output_type": "execute_result"
    }
   ],
   "source": [
    "## 改进一方法\n",
    "@time min_id_change_1(ids)\n",
    "@time min_id_change_1(ids)"
   ]
  },
  {
   "cell_type": "code",
   "execution_count": 6,
   "metadata": {},
   "outputs": [
    {
     "name": "stdout",
     "output_type": "stream",
     "text": [
      "  0.031548 seconds (29.76 k allocations: 1.539 MiB)\n",
      "  0.001244 seconds (6 allocations: 192 bytes)\n"
     ]
    },
    {
     "data": {
      "text/plain": [
       "5192"
      ]
     },
     "execution_count": 6,
     "metadata": {},
     "output_type": "execute_result"
    }
   ],
   "source": [
    "## 改进二方法\n",
    "@time min_id_change_2(ids,1,length(ids))\n",
    "@time min_id_change_2(ids,1,length(ids))"
   ]
  },
  {
   "cell_type": "markdown",
   "metadata": {},
   "source": [
    "### julia，python结果比较\n",
    "\n",
    "**python结果**\n",
    "\n",
    "- for+for:min_id() cost:101.6906300 s\n",
    "- for+in:min_id_with_not_in() cost:0.4106679 s!\n",
    "- change1:min_id_change_1() cost:0.0708082 s!\n",
    "- change2+递归:min_id_change_2() cost:36.0500872 s!\n",
    "- change2+迭代:min_id_change_2_iteration() cost:0.7271988 s!\n",
    "\n",
    "**julia结果**\n",
    "\n",
    "- for+for:  cost: 1.057379s\n",
    "- for+in:  cost: 0.272523s!\n",
    "- change1:  cost: 0.000660s!\n",
    "- change2+迭代:  cost:0.001244 s!\n",
    "\n",
    "而且当经过一边运行后，第二遍在运行，速度提升很大。\n",
    "\n",
    "而且能很明显的看出，内存的消耗都小了很多，能看出不同方法提升差异，以及`julia`在性能上的提升。"
   ]
  },
  {
   "cell_type": "markdown",
   "metadata": {},
   "source": [
    "## 丑数"
   ]
  }
 ],
 "metadata": {
  "kernelspec": {
   "display_name": "Julia 1.1.0-DEV",
   "language": "julia",
   "name": "julia-1.1"
  },
  "language_info": {
   "file_extension": ".jl",
   "mimetype": "application/julia",
   "name": "julia",
   "version": "1.1.0"
  }
 },
 "nbformat": 4,
 "nbformat_minor": 2
}
