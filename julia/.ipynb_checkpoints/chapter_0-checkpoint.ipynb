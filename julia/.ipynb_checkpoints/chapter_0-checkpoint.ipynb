{
 "cells": [
  {
   "cell_type": "markdown",
   "metadata": {},
   "source": [
    "## 最小ID"
   ]
  },
  {
   "cell_type": "code",
   "execution_count": 1,
   "metadata": {},
   "outputs": [],
   "source": [
    "using StatsBase\n",
    "## 20万个id\n",
    "n=200_001\n",
    "ids=sample(1:n,n-1,replace=false);"
   ]
  },
  {
   "cell_type": "code",
   "execution_count": 2,
   "metadata": {},
   "outputs": [
    {
     "data": {
      "text/plain": [
       "min_id_change_2 (generic function with 1 method)"
      ]
     },
     "execution_count": 2,
     "metadata": {},
     "output_type": "execute_result"
    }
   ],
   "source": [
    "## for嵌套for\n",
    "function min_id_for_and_for(x::Array{Int64})::Int64\n",
    "    for i = 1:length(x)\n",
    "        not_has_id = true\n",
    "        for j =1:length(x)\n",
    "            if i == x[j]\n",
    "                not_has_id =false\n",
    "            end\n",
    "        end\n",
    "        if not_has_id\n",
    "            return i\n",
    "        end\n",
    "    end\n",
    "    return length(x)\n",
    "end\n",
    "\n",
    "## for+in\n",
    "function min_id_for_and_in(x::Array{Int64})::Int64\n",
    "    for i = 1:length(x)\n",
    "        if i in x\n",
    "            continue\n",
    "        else\n",
    "            return i\n",
    "        end\n",
    "    end\n",
    "    return length(x)\n",
    "end\n",
    "\n",
    "## 书中方法改进一\n",
    "function min_id_change_1(x::Array{Int64})::Int64\n",
    "    myfalse = trues(length(x))\n",
    "    for i in x\n",
    "        if i <= length(x)\n",
    "            myfalse[i]=false\n",
    "        end\n",
    "    end\n",
    "    for i=1:length(myfalse)\n",
    "        if myfalse[i]\n",
    "            return i\n",
    "        end\n",
    "    end\n",
    "    return length(x)+1\n",
    "end\n",
    "\n",
    "\n",
    "## 书中方法改进二\n",
    "function min_id_change_2(x,l,u)::Int64\n",
    "    n = length(x)    \n",
    "    while n > 0\n",
    "\n",
    "        middle = floor((l+u)/2)\n",
    "        left=l   \n",
    "        for right = l:n+l-1\n",
    "            if x[right] <= middle\n",
    "                tmp = x[right]\n",
    "                x[right] = x[left]\n",
    "                x[left] = tmp\n",
    "                left = left +1\n",
    "            end\n",
    "        end\n",
    "        if left == middle+1\n",
    "            n = n - left + l\n",
    "            l = left\n",
    "        else\n",
    "            u = left\n",
    "            n = left-l\n",
    "        end\n",
    "    end\n",
    "    return l       \n",
    "end\n",
    "    "
   ]
  },
  {
   "cell_type": "code",
   "execution_count": 3,
   "metadata": {},
   "outputs": [
    {
     "name": "stdout",
     "output_type": "stream",
     "text": [
      "  2.275260 seconds (19.06 k allocations: 963.168 KiB)\n",
      "  2.377084 seconds (5 allocations: 176 bytes)\n"
     ]
    },
    {
     "data": {
      "text/plain": [
       "11217"
      ]
     },
     "execution_count": 3,
     "metadata": {},
     "output_type": "execute_result"
    }
   ],
   "source": [
    "## 使用for嵌套for\n",
    "@time min_id_for_and_for(ids)\n",
    "@time min_id_for_and_for(ids)"
   ]
  },
  {
   "cell_type": "code",
   "execution_count": 4,
   "metadata": {},
   "outputs": [
    {
     "name": "stdout",
     "output_type": "stream",
     "text": [
      "  0.579609 seconds (16.72 k allocations: 844.855 KiB)\n",
      "  0.554984 seconds (5 allocations: 176 bytes)\n"
     ]
    },
    {
     "data": {
      "text/plain": [
       "11217"
      ]
     },
     "execution_count": 4,
     "metadata": {},
     "output_type": "execute_result"
    }
   ],
   "source": [
    "## 使用for+in\n",
    "@time min_id_for_and_in(ids)\n",
    "@time min_id_for_and_in(ids)"
   ]
  },
  {
   "cell_type": "code",
   "execution_count": 5,
   "metadata": {},
   "outputs": [
    {
     "name": "stdout",
     "output_type": "stream",
     "text": [
      "  0.040999 seconds (49.59 k allocations: 2.455 MiB, 16.35% gc time)\n",
      "  0.000401 seconds (8 allocations: 24.719 KiB)\n"
     ]
    },
    {
     "data": {
      "text/plain": [
       "11217"
      ]
     },
     "execution_count": 5,
     "metadata": {},
     "output_type": "execute_result"
    }
   ],
   "source": [
    "## 改进一方法\n",
    "@time min_id_change_1(ids)\n",
    "@time min_id_change_1(ids)"
   ]
  },
  {
   "cell_type": "code",
   "execution_count": 6,
   "metadata": {},
   "outputs": [
    {
     "name": "stdout",
     "output_type": "stream",
     "text": [
      "  0.030979 seconds (29.76 k allocations: 1.539 MiB)\n",
      "  0.001301 seconds (6 allocations: 192 bytes)\n"
     ]
    },
    {
     "data": {
      "text/plain": [
       "11217"
      ]
     },
     "execution_count": 6,
     "metadata": {},
     "output_type": "execute_result"
    }
   ],
   "source": [
    "## 改进二方法\n",
    "@time min_id_change_2(ids,1,length(ids))\n",
    "@time min_id_change_2(ids,1,length(ids))"
   ]
  },
  {
   "cell_type": "markdown",
   "metadata": {},
   "source": [
    "### julia，python结果比较\n",
    "\n",
    "**python结果**\n",
    "\n",
    "- for+for:min_id() cost:101.6906300 s\n",
    "- for+in:min_id_with_not_in() cost:0.4106679 s!\n",
    "- change1:min_id_change_1() cost:0.0708082 s!\n",
    "- change2+递归:min_id_change_2() cost:36.0500872 s!\n",
    "- change2+迭代:min_id_change_2_iteration() cost:0.7271988 s!\n",
    "\n",
    "**julia结果**\n",
    "\n",
    "- for+for:  cost: 1.057379s\n",
    "- for+in:  cost: 0.272523s!\n",
    "- change1:  cost: 0.000660s!\n",
    "- change2+迭代:  cost:0.001244 s!\n",
    "\n",
    "而且当经过一边运行后，第二遍在运行，速度提升很大。\n",
    "\n",
    "而且能很明显的看出，内存的消耗都小了很多，能看出不同方法提升差异，以及`julia`在性能上的提升。"
   ]
  },
  {
   "cell_type": "markdown",
   "metadata": {},
   "source": [
    "## 丑数"
   ]
  },
  {
   "cell_type": "code",
   "execution_count": 7,
   "metadata": {},
   "outputs": [
    {
     "data": {
      "text/plain": [
       "ugly_number_in_dif_queue (generic function with 1 method)"
      ]
     },
     "execution_count": 7,
     "metadata": {},
     "output_type": "execute_result"
    }
   ],
   "source": [
    "## 暴力方法，其实这个方法和python的很像，但是刚学julia，有很多还是不熟悉，所以重复写一点。\n",
    "\n",
    "function ugly_number_in_for(number::Int64)::Int64\n",
    "    count = 0\n",
    "    n=0\n",
    "    while count<number\n",
    "        n += 1\n",
    "        if is_ugly(n)\n",
    "            count += 1\n",
    "        end\n",
    "    end\n",
    "    return n\n",
    "end\n",
    "\n",
    "\n",
    "function is_ugly(number::Int64)::Bool\n",
    "    while mod(number,2)==0\n",
    "        number = number / 2\n",
    "    end\n",
    "    while mod(number,3)==0\n",
    "        number = number/3\n",
    "    end\n",
    "    while mod(number,5) ==0\n",
    "        number = number/5\n",
    "    end\n",
    "    if number==1\n",
    "        return true\n",
    "    else\n",
    "        return false\n",
    "    end\n",
    "end\n",
    "\n",
    "## queue\n",
    "\n",
    "function ugly_number_in_queue(number::Int64)::Int64\n",
    "    count=1\n",
    "    queue = [1]\n",
    "    has_disp = []\n",
    "    while count<number\n",
    "        min_n = popfirst!(queue)\n",
    "        if !(min_n*2 in has_disp)\n",
    "            push!(has_disp,min_n*2)\n",
    "            push!(queue,min_n*2)\n",
    "        end\n",
    "        if !(min_n*3 in has_disp)\n",
    "            push!(has_disp,min_n*3)\n",
    "            push!(queue,min_n*3)\n",
    "        end\n",
    "        if !(min_n*5 in has_disp)\n",
    "            push!(has_disp,min_n*5)\n",
    "            push!(queue,min_n*5)\n",
    "        end\n",
    "        count += 1\n",
    "        queue = sort(unique(queue))\n",
    "    end\n",
    "    return queue[1]\n",
    "end\n",
    "            \n",
    "\n",
    "## different queue\n",
    "\n",
    "function ugly_number_in_dif_queue(number::Int64)::Int64\n",
    "    count=1\n",
    "    queue2=[2]\n",
    "    queue3=[3]\n",
    "    queue5=[5]\n",
    "    min_n = 1\n",
    "    while count < number\n",
    "        min_n = minimum([queue2[1],queue3[1],queue5[1]])\n",
    "        if min_n == queue2[1]\n",
    "            popfirst!(queue2)\n",
    "            push!(queue2,2*min_n)\n",
    "            push!(queue3,3*min_n)\n",
    "            push!(queue5,5*min_n)\n",
    "        elseif min_n ==queue3[1]\n",
    "            popfirst!(queue3)\n",
    "            push!(queue3,3*min_n)\n",
    "            push!(queue5,5*min_n)\n",
    "        else\n",
    "            popfirst!(queue5)\n",
    "            push!(queue5,5*min_n)\n",
    "        end\n",
    "        count += 1\n",
    "    end\n",
    "    return min_n\n",
    "end           \n",
    "    \n",
    "        \n",
    "        "
   ]
  },
  {
   "cell_type": "code",
   "execution_count": 8,
   "metadata": {},
   "outputs": [
    {
     "name": "stdout",
     "output_type": "stream",
     "text": [
      "  0.159636 seconds (69.74 k allocations: 3.600 MiB)\n",
      "  0.127385 seconds (5 allocations: 176 bytes)\n"
     ]
    },
    {
     "data": {
      "text/plain": [
       "937500"
      ]
     },
     "execution_count": 8,
     "metadata": {},
     "output_type": "execute_result"
    }
   ],
   "source": [
    "@time ugly_number_in_for(500)\n",
    "@time ugly_number_in_for(500)"
   ]
  },
  {
   "cell_type": "code",
   "execution_count": 9,
   "metadata": {},
   "outputs": [
    {
     "name": "stdout",
     "output_type": "stream",
     "text": [
      "  0.116274 seconds (684.21 k allocations: 21.278 MiB, 3.59% gc time)\n",
      "  0.031030 seconds (483.35 k allocations: 11.449 MiB, 10.38% gc time)\n"
     ]
    },
    {
     "data": {
      "text/plain": [
       "937500"
      ]
     },
     "execution_count": 9,
     "metadata": {},
     "output_type": "execute_result"
    }
   ],
   "source": [
    "@time ugly_number_in_queue(500)\n",
    "@time ugly_number_in_queue(500)"
   ]
  },
  {
   "cell_type": "code",
   "execution_count": 10,
   "metadata": {},
   "outputs": [
    {
     "name": "stdout",
     "output_type": "stream",
     "text": [
      "  0.058132 seconds (125.27 k allocations: 6.155 MiB)\n",
      "  0.000049 seconds (1.83 k allocations: 85.016 KiB)\n"
     ]
    },
    {
     "data": {
      "text/plain": [
       "937500"
      ]
     },
     "execution_count": 10,
     "metadata": {},
     "output_type": "execute_result"
    }
   ],
   "source": [
    "@time ugly_number_in_dif_queue(500)\n",
    "@time ugly_number_in_dif_queue(500)"
   ]
  },
  {
   "cell_type": "markdown",
   "metadata": {},
   "source": [
    "### julia，python结果比较\n",
    "\n",
    "**python结果**\n",
    "\n",
    "- 暴力方法:0.56 seconds\n",
    "- 一个队列：0.023 seconds\n",
    "- 多个队列：0.000409 seconds\n",
    "\n",
    "**julia结果**\n",
    "\n",
    "- 暴力方法:0.122705 seconds\n",
    "- 一个队列：0.020103 seconds\n",
    "- 多个队列：0.000072 seconds\n",
    "\n",
    "\n",
    "julia的结果都是用的第二次运行，目前不清楚，不是写到这样的交互式中，是不是只要运行过一次就可以了。"
   ]
  }
 ],
 "metadata": {
  "kernelspec": {
   "display_name": "Julia 1.1.0-DEV",
   "language": "julia",
   "name": "julia-1.1"
  },
  "language_info": {
   "file_extension": ".jl",
   "mimetype": "application/julia",
   "name": "julia",
   "version": "1.1.0"
  }
 },
 "nbformat": 4,
 "nbformat_minor": 2
}
