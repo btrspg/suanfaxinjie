{
 "cells": [
  {
   "cell_type": "markdown",
   "metadata": {},
   "source": [
    "## Part_II_chapter_1\n",
    "\n",
    "### 二叉搜索树"
   ]
  },
  {
   "cell_type": "markdown",
   "metadata": {},
   "source": [
    "#### 问题一：\n",
    "\n",
    "给定前序序列及中序序序列，如何获得后序\n",
    "\n",
    "- 前序遍历结果：1 2 4 3 5 6\n",
    "- 中序遍历结果：4 2 1 5 3 6 \n",
    "- 后续遍历结果：？\n",
    "\n",
    "_有点像本科的时候做的课后题_"
   ]
  },
  {
   "cell_type": "code",
   "execution_count": 32,
   "metadata": {},
   "outputs": [],
   "source": [
    "from commons import how_long\n",
    "\n",
    "\n",
    "## 一个二叉树节点\n",
    "class BinaryTree():\n",
    "    '''\n",
    "    \n",
    "    '''\n",
    "    def __init__(self,value,left='',right=''):\n",
    "        self._value = value\n",
    "        self._left = left\n",
    "#         self._left_value = left_value\n",
    "        self._right = right\n",
    "#         self._right_value = right_value\n",
    "        \n",
    "    @property\n",
    "    def get_left(self):\n",
    "        return self._left\n",
    "    \n",
    "    @property\n",
    "    def get_right(self):\n",
    "        return self._right\n",
    "        \n",
    "    @property\n",
    "    def get_self(self):\n",
    "        return self._value\n",
    "    \n",
    "    @property\n",
    "    def has_left(self):\n",
    "        if self._left == '':\n",
    "            return False\n",
    "        else:\n",
    "            return True\n",
    "        \n",
    "    @property\n",
    "    def has_right(self):\n",
    "        if self._right=='':\n",
    "            return False\n",
    "        else:\n",
    "            return True\n",
    "\n",
    "        \n",
    "#前序\n",
    "def preorder(node):\n",
    "    '''\n",
    "    node is the node tree\n",
    "    '''\n",
    "    if isinstance(node,BinaryTree) and (node.has_left or node.has_right):\n",
    "        return [node.get_self]+preorder(node.get_left)+preorder(node.get_right)\n",
    "    elif isinstance(node,BinaryTree):\n",
    "        return [node.get_self]\n",
    "    else:\n",
    "        print(node,type(node))\n",
    "        raise ValueError('Node must be a binary tree')\n",
    "\n",
    "        \n",
    "#中序\n",
    "def in_order(node):\n",
    "    '''\n",
    "    node is the node tree\n",
    "    '''\n",
    "    if isinstance(node,BinaryTree) and (node.has_left or node.has_right):\n",
    "        return in_order(node.get_left)+[node.get_self]+in_order(node.get_right)\n",
    "    elif isinstance(node,BinaryTree):\n",
    "        return [node.get_self]\n",
    "    else:\n",
    "        raise ValueError('Node must be a binary tree')\n",
    "        \n",
    "#后序\n",
    "def subsequent(node):\n",
    "    '''\n",
    "    node is the node tree\n",
    "    '''\n",
    "    if isinstance(node,BinaryTree) and (node.has_left or node.has_right):\n",
    "        return subsequent(node.get_left)+subsequent(node.get_right)+[node.get_self]\n",
    "    elif isinstance(node,BinaryTree):\n",
    "        return [node.get_self]\n",
    "    else:\n",
    "        raise ValueError('Node must be a binary tree')"
   ]
  },
  {
   "cell_type": "code",
   "execution_count": 33,
   "metadata": {},
   "outputs": [],
   "source": [
    "node3 = BinaryTree(3)\n",
    "node4 = BinaryTree(4)\n",
    "node2 = BinaryTree(2,node3,node4)\n",
    "node5 = BinaryTree(5)\n",
    "node1 = BinaryTree(1,node2,node5)"
   ]
  },
  {
   "cell_type": "code",
   "execution_count": 34,
   "metadata": {},
   "outputs": [
    {
     "data": {
      "text/plain": [
       "[1, 2, 3, 4, 5]"
      ]
     },
     "execution_count": 34,
     "metadata": {},
     "output_type": "execute_result"
    }
   ],
   "source": [
    "preorder(node1)"
   ]
  },
  {
   "cell_type": "code",
   "execution_count": 35,
   "metadata": {},
   "outputs": [
    {
     "data": {
      "text/plain": [
       "[3, 2, 4, 1, 5]"
      ]
     },
     "execution_count": 35,
     "metadata": {},
     "output_type": "execute_result"
    }
   ],
   "source": [
    "in_order(node1)"
   ]
  },
  {
   "cell_type": "code",
   "execution_count": 36,
   "metadata": {},
   "outputs": [
    {
     "data": {
      "text/plain": [
       "[3, 4, 2, 5, 1]"
      ]
     },
     "execution_count": 36,
     "metadata": {},
     "output_type": "execute_result"
    }
   ],
   "source": [
    "subsequent(node1)"
   ]
  },
  {
   "cell_type": "markdown",
   "metadata": {},
   "source": [
    "## 说明\n",
    "\n",
    "上面的方法虽说可以实现前序，中序，后续遍历!\n",
    "\n",
    "- 后续需要实现树的快速构建（随机二叉树），然后如何通过前序遍历结果及中序遍历结果，构建完整二叉树。"
   ]
  },
  {
   "cell_type": "code",
   "execution_count": 6,
   "metadata": {},
   "outputs": [],
   "source": [
    "preorder_traversal = [1,2,4,3,5,6]\n",
    "\n",
    "in_order_traversal = [4,2,1,5,3,6]\n",
    "\n",
    "subsequent_traversal = []"
   ]
  }
 ],
 "metadata": {
  "kernelspec": {
   "display_name": "Python 3",
   "language": "python",
   "name": "python3"
  },
  "language_info": {
   "codemirror_mode": {
    "name": "ipython",
    "version": 3
   },
   "file_extension": ".py",
   "mimetype": "text/x-python",
   "name": "python",
   "nbconvert_exporter": "python",
   "pygments_lexer": "ipython3",
   "version": "3.6.4"
  }
 },
 "nbformat": 4,
 "nbformat_minor": 2
}
