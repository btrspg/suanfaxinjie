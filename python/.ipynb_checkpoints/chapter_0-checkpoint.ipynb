{
 "cells": [
  {
   "cell_type": "markdown",
   "metadata": {},
   "source": [
    "## 最小ID"
   ]
  },
  {
   "cell_type": "code",
   "execution_count": 1,
   "metadata": {},
   "outputs": [],
   "source": [
    "import numpy as np\n",
    "from commons import how_long\n",
    "from memory_profiler import profile"
   ]
  },
  {
   "cell_type": "code",
   "execution_count": 2,
   "metadata": {},
   "outputs": [
    {
     "name": "stdout",
     "output_type": "stream",
     "text": [
      "[171553   5506  38370]\n"
     ]
    }
   ],
   "source": [
    "## 保证每次生成的一样\n",
    "np.random.seed(1)\n",
    "# 生成20万大小的id list\n",
    "n=200000\n",
    "ids = np.random.choice(range(n+2),n,replace=False)\n",
    "if 0 not in ids:\n",
    "    ids.append(0)\n",
    "print(ids[1:4])"
   ]
  },
  {
   "cell_type": "markdown",
   "metadata": {},
   "source": [
    ">[171553   5506  38370]"
   ]
  },
  {
   "cell_type": "code",
   "execution_count": 3,
   "metadata": {},
   "outputs": [],
   "source": [
    "## 暴力方法\n",
    "@how_long\n",
    "def min_id(ids):\n",
    "    '''\n",
    "    暴力方法\n",
    "    ids:list of ids\n",
    "    \n",
    "    return min_id for create\n",
    "    '''\n",
    "    for i in range(len(ids)):\n",
    "        if not_in(i,ids):\n",
    "            return i\n",
    "#     print(len(ids))\n",
    "    return len(ids)\n",
    "\n",
    "@how_long\n",
    "def min_id_with_not_in(ids):\n",
    "    for i in range(len(ids)):\n",
    "        if i not in ids:\n",
    "            return i\n",
    "#     print(len(ids))\n",
    "    return len(ids)\n",
    "    \n",
    "\n",
    "def not_in(i,ids):\n",
    "    '''\n",
    "    检查i是否在ids中，原本可以用\n",
    "    if i not in ids\n",
    "    为了保证使用最原始方法测试，所以自己用for重新写一个\n",
    "    '''\n",
    "    for one_id in ids:\n",
    "        if i == one_id:\n",
    "            return False\n",
    "    return True\n",
    "\n",
    "## 改进一\n",
    "\n",
    "@how_long\n",
    "def min_id_change_1(ids):\n",
    "    '''\n",
    "    改进一\n",
    "    '''\n",
    "    id_index = [False] * len(ids)\n",
    "    for i in ids:\n",
    "        if i < len(ids):\n",
    "            id_index[i]=True\n",
    "    for ii in range(len(id_index)):\n",
    "        if id_index[ii] == False:\n",
    "            return ii\n",
    "#     print(len(ids))\n",
    "    return len(ids)\n",
    "\n",
    "\n",
    "\n",
    "## 改进二\n",
    "\n",
    "\n",
    "def min_id_change_2_sub(l,u,ids):\n",
    "    '''\n",
    "    改进二\n",
    "    '''\n",
    "    if len(ids)==0:\n",
    "        return l\n",
    "    else:     \n",
    "        middle = np.floor((l+u)/2)\n",
    "        small_set=[]\n",
    "        other_set=[]\n",
    "        length = len(ids)\n",
    "        for i in range(length):\n",
    "            the_number,ids = ids[-1], ids[:-1]\n",
    "            if the_number <= middle:\n",
    "                small_set.append(the_number)\n",
    "            else:\n",
    "                other_set.append(the_number)\n",
    "             \n",
    "    if len(small_set) == middle+1-l:\n",
    "        return min_id_change_2_sub(middle+1,middle+len(other_set),other_set)\n",
    "    else:\n",
    "        return min_id_change_2_sub(l,middle,small_set)\n",
    "    return result\n",
    "        \n",
    "\n",
    "\n",
    "@how_long\n",
    "def min_id_change_2(ids):\n",
    "    '''\n",
    "    递归方法\n",
    "    '''\n",
    "    result = min_id_change_2_sub(0,len(ids)-1,ids)\n",
    "#     print(result)\n",
    "    return result\n",
    "\n",
    "\n",
    "## 改进二，不是用递归，而转化成迭代\n",
    "@how_long\n",
    "def min_id_change_2_iteration(ids):\n",
    "    '''\n",
    "    迭代方法\n",
    "    '''\n",
    "    n=len(ids)\n",
    "    l=0\n",
    "    u=n-1\n",
    "    \n",
    "    while n:\n",
    "        left=0\n",
    "        middle = np.floor((u+l)/2)\n",
    "#         print(n,left,middle,l,u)\n",
    "        for right in range(int(l),int(l+n)):\n",
    "            if ids[right] <= middle:\n",
    "                tmp = ids[right]\n",
    "                ids[right]=ids[left+l]\n",
    "                ids[left+l] =tmp\n",
    "                left += 1\n",
    "#             print(ids)\n",
    "#         print('------')\n",
    "#         print(ids)\n",
    "#         print(left+l,middle - l + 1)\n",
    "        if left == middle - l + 1:\n",
    "#             print('left')\n",
    "            l = int(middle + 1)\n",
    "            u = u\n",
    "            n = n-left\n",
    "        else:\n",
    "#             print('right')\n",
    "            u = middle\n",
    "            n = left\n",
    "    return l\n",
    "\n"
   ]
  },
  {
   "cell_type": "code",
   "execution_count": 4,
   "metadata": {},
   "outputs": [
    {
     "name": "stdout",
     "output_type": "stream",
     "text": [
      "min_id() cost:101690.6300 ms!\n",
      "5192\n",
      "peak memory: 69.01 MiB, increment: 0.05 MiB\n"
     ]
    }
   ],
   "source": [
    "## 自己用for循环模仿 not in \n",
    "%memit print(min_id(ids))"
   ]
  },
  {
   "cell_type": "code",
   "execution_count": 5,
   "metadata": {},
   "outputs": [
    {
     "name": "stdout",
     "output_type": "stream",
     "text": [
      "min_id_with_not_in() cost:410.6679 ms!\n",
      "5192\n",
      "peak memory: 69.04 MiB, increment: 0.02 MiB\n"
     ]
    }
   ],
   "source": [
    "## 使用 if i not in ids\n",
    "%memit print(min_id_with_not_in(ids))"
   ]
  },
  {
   "cell_type": "code",
   "execution_count": 6,
   "metadata": {},
   "outputs": [
    {
     "name": "stdout",
     "output_type": "stream",
     "text": [
      "min_id_change_1() cost:66.8340 ms!\n",
      "5192\n",
      "min_id_change_1() cost:70.8082 ms!\n",
      "5192\n",
      "peak memory: 65.98 MiB, increment: 0.00 MiB\n"
     ]
    }
   ],
   "source": [
    "## 改进一\n",
    "%memit print(min_id_change_1(ids))"
   ]
  },
  {
   "cell_type": "code",
   "execution_count": 7,
   "metadata": {},
   "outputs": [
    {
     "name": "stdout",
     "output_type": "stream",
     "text": [
      "min_id_change_2() cost:36050.0872 ms!\n",
      "5192.0\n",
      "peak memory: 76.84 MiB, increment: 10.86 MiB\n"
     ]
    }
   ],
   "source": [
    "## 改进二 递归方法\n",
    "%memit print(min_id_change_2(ids))"
   ]
  },
  {
   "cell_type": "code",
   "execution_count": 8,
   "metadata": {},
   "outputs": [
    {
     "name": "stdout",
     "output_type": "stream",
     "text": [
      "min_id_change_2_iteration() cost:727.1988 ms!\n",
      "5192\n",
      "peak memory: 68.50 MiB, increment: 0.00 MiB\n"
     ]
    }
   ],
   "source": [
    "## 改进二 迭代方法\n",
    "%memit print(min_id_change_2_iteration(ids))"
   ]
  },
  {
   "cell_type": "markdown",
   "metadata": {},
   "source": [
    "书中提到了，改进二，由于使用了递归，所以有一个调用的栈的大小消耗在内存中，所以会使得内存的消耗增大。\n",
    "\n",
    "这还只是一个20万的id集合，而且查询的id只是5000左右，结果已经有很大差异了。\n",
    "\n",
    "如果优化的好，迭代方法的确要比递归方法好。\n",
    "\n",
    "<font color='red'>而且有一点，就是python中的内置方法`in`应该不是简单的for循环，或者是用c编译的，速度要快很多。所以在使用过程中，能使用已有的内置方法，最好就直接使用，应该会比自己写的要快。</font>"
   ]
  },
  {
   "cell_type": "markdown",
   "metadata": {},
   "source": [
    "## 丑数"
   ]
  }
 ],
 "metadata": {
  "kernelspec": {
   "display_name": "Python 3",
   "language": "python",
   "name": "python3"
  },
  "language_info": {
   "codemirror_mode": {
    "name": "ipython",
    "version": 3
   },
   "file_extension": ".py",
   "mimetype": "text/x-python",
   "name": "python",
   "nbconvert_exporter": "python",
   "pygments_lexer": "ipython3",
   "version": "3.6.4"
  }
 },
 "nbformat": 4,
 "nbformat_minor": 2
}
