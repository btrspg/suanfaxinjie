{
 "cells": [
  {
   "cell_type": "markdown",
   "metadata": {},
   "source": [
    "## Part_II_chapter_1\n",
    "\n",
    "### 二叉搜索树"
   ]
  },
  {
   "cell_type": "markdown",
   "metadata": {},
   "source": [
    "#### 问题一：\n",
    "\n",
    "给定前序序列及中序序序列，如何获得后序\n",
    "\n",
    "- 前序遍历结果：1 2 4 3 5 6\n",
    "- 中序遍历结果：4 2 1 5 3 6 \n",
    "- 后续遍历结果：？\n",
    "\n",
    "_有点像本科的时候做的课后题_"
   ]
  },
  {
   "cell_type": "code",
   "execution_count": 150,
   "metadata": {},
   "outputs": [],
   "source": [
    "from commons import how_long\n",
    "\n",
    "\n",
    "## 一个二叉树节点\n",
    "class BinaryTree():\n",
    "    '''\n",
    "    \n",
    "    '''\n",
    "    def __init__(self,value,left='',right=''):\n",
    "        self._value = value\n",
    "        self._left = left\n",
    "#         self._left_value = left_value\n",
    "        self._right = right\n",
    "#         self._right_value = right_value\n",
    "    \n",
    "    def __str__(self):\n",
    "        return '(%s,%s,%s)' % (self._value,self._left,self._right)\n",
    "\n",
    "    def add_left(self,left):\n",
    "        self._left = left\n",
    "    \n",
    "    def add_right(self,right):\n",
    "        self._right = right\n",
    "        \n",
    "    @property\n",
    "    def get_left(self):\n",
    "        return self._left\n",
    "    \n",
    "    @property\n",
    "    def get_right(self):\n",
    "        return self._right\n",
    "        \n",
    "    @property\n",
    "    def get_self(self):\n",
    "        return self._value\n",
    "    \n",
    "    @property\n",
    "    def has_left(self):\n",
    "        if self._left == '':\n",
    "            return False\n",
    "        else:\n",
    "            return True\n",
    "        \n",
    "    @property\n",
    "    def has_right(self):\n",
    "        if self._right=='':\n",
    "            return False\n",
    "        else:\n",
    "            return True\n",
    "\n",
    "        \n",
    "#前序\n",
    "def preorder(node):\n",
    "    '''\n",
    "    node is the node tree\n",
    "    '''\n",
    "    if isinstance(node,BinaryTree) and (node.has_left or node.has_right):\n",
    "        return [node.get_self]+preorder(node.get_left)+preorder(node.get_right)\n",
    "    elif isinstance(node,BinaryTree):\n",
    "        return [node.get_self]\n",
    "    elif isinstance(node,str):\n",
    "        return []\n",
    "    else:\n",
    "        print(node,type(node))\n",
    "        raise ValueError('Node must be a binary tree not a %s' % type(node))\n",
    "\n",
    "        \n",
    "#中序\n",
    "def in_order(node):\n",
    "    '''\n",
    "    node is the node tree\n",
    "    '''\n",
    "    if isinstance(node,BinaryTree) and (node.has_left or node.has_right):\n",
    "        return in_order(node.get_left)+[node.get_self]+in_order(node.get_right)\n",
    "    elif isinstance(node,BinaryTree):\n",
    "        return [node.get_self]\n",
    "    elif isinstance(node,str):\n",
    "        return []\n",
    "    else:\n",
    "        raise ValueError('Node must be a binary tree not a %s' % type(node))\n",
    "        \n",
    "#后序\n",
    "def subsequent(node):\n",
    "    '''\n",
    "    node is the node tree\n",
    "    '''\n",
    "    if isinstance(node,BinaryTree) and (node.has_left or node.has_right):\n",
    "        return subsequent(node.get_left)+subsequent(node.get_right)+[node.get_self]\n",
    "    elif isinstance(node,BinaryTree):\n",
    "        return [node.get_self]\n",
    "    elif isinstance(node,str):\n",
    "        return []\n",
    "    else:\n",
    "        raise ValueError('Node must be a binary tree not a %s' % type(node))"
   ]
  },
  {
   "cell_type": "code",
   "execution_count": 151,
   "metadata": {},
   "outputs": [],
   "source": [
    "node3 = BinaryTree(3)\n",
    "node4 = BinaryTree(4)\n",
    "node2 = BinaryTree(2,node3,node4)\n",
    "node5 = BinaryTree(5)\n",
    "node1 = BinaryTree(1,node2,node5)"
   ]
  },
  {
   "cell_type": "code",
   "execution_count": 152,
   "metadata": {},
   "outputs": [
    {
     "data": {
      "text/plain": [
       "[1, 2, 3, 4, 5]"
      ]
     },
     "execution_count": 152,
     "metadata": {},
     "output_type": "execute_result"
    }
   ],
   "source": [
    "preorder(node1)"
   ]
  },
  {
   "cell_type": "code",
   "execution_count": 153,
   "metadata": {},
   "outputs": [
    {
     "data": {
      "text/plain": [
       "[3, 2, 4, 1, 5]"
      ]
     },
     "execution_count": 153,
     "metadata": {},
     "output_type": "execute_result"
    }
   ],
   "source": [
    "in_order(node1)"
   ]
  },
  {
   "cell_type": "code",
   "execution_count": 154,
   "metadata": {},
   "outputs": [
    {
     "data": {
      "text/plain": [
       "[3, 4, 2, 5, 1]"
      ]
     },
     "execution_count": 154,
     "metadata": {},
     "output_type": "execute_result"
    }
   ],
   "source": [
    "subsequent(node1)"
   ]
  },
  {
   "cell_type": "markdown",
   "metadata": {},
   "source": [
    "## 说明\n",
    "\n",
    "上面的方法虽说可以实现前序，中序，后续遍历!\n",
    "\n",
    "- 后续需要实现树的快速构建（随机二叉树），然后如何通过前序遍历结果及中序遍历结果，构建完整二叉树。"
   ]
  },
  {
   "cell_type": "code",
   "execution_count": 155,
   "metadata": {},
   "outputs": [
    {
     "name": "stdout",
     "output_type": "stream",
     "text": [
      "[1]\n"
     ]
    }
   ],
   "source": [
    "node1=BinaryTree(1)\n",
    "node2=BinaryTree(2)\n",
    "node3=BinaryTree(3)\n",
    "node4=BinaryTree(4)\n",
    "node5=BinaryTree(5)\n",
    "node6=BinaryTree(6)\n",
    "\n",
    "preorder_traversal = [node1,node2,node4,node3,node5,node6]\n",
    "\n",
    "in_order_traversal = [node4,node2,node1,node5,node3,node6]\n",
    "\n",
    "subsequent_traversal = subsequent(preorder_traversal[0])\n",
    "print(subsequent_traversal)"
   ]
  },
  {
   "cell_type": "markdown",
   "metadata": {},
   "source": [
    "### 想法\n",
    "\n",
    "- 前序遍历过程中，第一个数字一定是根节点\n",
    "- 中序遍历中，一个节点(B)出现在另一个节点(A)的前面，一定因为这个节点（B）在另一个节点(A)的左边"
   ]
  },
  {
   "cell_type": "code",
   "execution_count": 156,
   "metadata": {},
   "outputs": [],
   "source": [
    "def get_tree_from_pre_in(pre,in_order):\n",
    "    '''\n",
    "    pre:前序遍历结果\n",
    "    in_order:中序遍历结果\n",
    "    '''\n",
    "    if len(pre) > 1:\n",
    "        root = pre[0]\n",
    "        for i,j in zip(pre,in_order):\n",
    "            print('pre:{}\\tin_order:{}'.format(i,j))\n",
    "        print('------------')\n",
    "        index = in_order.index(root)\n",
    "        if index+1<len(pre):\n",
    "            root.add_left(get_tree_from_pre_in(pre[1:index+1],in_order[:index]))\n",
    "            root.add_right(get_tree_from_pre_in(pre[index+1:],in_order[index+1:]))\n",
    "        left_tree = in_order[0:in_order.index(root)]\n",
    "    else:\n",
    "        print(pre[0])\n",
    "        return pre[0]\n",
    "    \n",
    "        "
   ]
  },
  {
   "cell_type": "code",
   "execution_count": 157,
   "metadata": {},
   "outputs": [
    {
     "name": "stdout",
     "output_type": "stream",
     "text": [
      "pre:(1,,)\tin_order:(4,,)\n",
      "pre:(2,,)\tin_order:(2,,)\n",
      "pre:(4,,)\tin_order:(1,,)\n",
      "pre:(3,,)\tin_order:(5,,)\n",
      "pre:(5,,)\tin_order:(3,,)\n",
      "pre:(6,,)\tin_order:(6,,)\n",
      "------------\n",
      "pre:(2,,)\tin_order:(4,,)\n",
      "pre:(4,,)\tin_order:(2,,)\n",
      "------------\n",
      "pre:(3,,)\tin_order:(5,,)\n",
      "pre:(5,,)\tin_order:(3,,)\n",
      "pre:(6,,)\tin_order:(6,,)\n",
      "------------\n",
      "(5,,)\n",
      "(6,,)\n"
     ]
    }
   ],
   "source": [
    "get_tree_from_pre_in(preorder_traversal,in_order_traversal)"
   ]
  },
  {
   "cell_type": "code",
   "execution_count": 143,
   "metadata": {},
   "outputs": [
    {
     "name": "stdout",
     "output_type": "stream",
     "text": [
      "self:1,left:None,right:None\n"
     ]
    }
   ],
   "source": [
    "print(node1)"
   ]
  },
  {
   "cell_type": "code",
   "execution_count": 123,
   "metadata": {},
   "outputs": [
    {
     "ename": "ValueError",
     "evalue": "Node must be a binary tree not a <class 'NoneType'>",
     "output_type": "error",
     "traceback": [
      "\u001b[0;31m---------------------------------------------------------------------------\u001b[0m",
      "\u001b[0;31mValueError\u001b[0m                                Traceback (most recent call last)",
      "\u001b[0;32m<ipython-input-123-89840306c7ce>\u001b[0m in \u001b[0;36m<module>\u001b[0;34m()\u001b[0m\n\u001b[0;32m----> 1\u001b[0;31m \u001b[0msubsequent_traversal\u001b[0m \u001b[0;34m=\u001b[0m \u001b[0msubsequent\u001b[0m\u001b[0;34m(\u001b[0m\u001b[0mpreorder_traversal\u001b[0m\u001b[0;34m[\u001b[0m\u001b[0;36m0\u001b[0m\u001b[0;34m]\u001b[0m\u001b[0;34m)\u001b[0m\u001b[0;34m\u001b[0m\u001b[0m\n\u001b[0m",
      "\u001b[0;32m<ipython-input-88-70ccae07d8be>\u001b[0m in \u001b[0;36msubsequent\u001b[0;34m(node)\u001b[0m\n\u001b[1;32m     86\u001b[0m     '''\n\u001b[1;32m     87\u001b[0m     \u001b[0;32mif\u001b[0m \u001b[0misinstance\u001b[0m\u001b[0;34m(\u001b[0m\u001b[0mnode\u001b[0m\u001b[0;34m,\u001b[0m\u001b[0mBinaryTree\u001b[0m\u001b[0;34m)\u001b[0m \u001b[0;32mand\u001b[0m \u001b[0;34m(\u001b[0m\u001b[0mnode\u001b[0m\u001b[0;34m.\u001b[0m\u001b[0mhas_left\u001b[0m \u001b[0;32mor\u001b[0m \u001b[0mnode\u001b[0m\u001b[0;34m.\u001b[0m\u001b[0mhas_right\u001b[0m\u001b[0;34m)\u001b[0m\u001b[0;34m:\u001b[0m\u001b[0;34m\u001b[0m\u001b[0m\n\u001b[0;32m---> 88\u001b[0;31m         \u001b[0;32mreturn\u001b[0m \u001b[0msubsequent\u001b[0m\u001b[0;34m(\u001b[0m\u001b[0mnode\u001b[0m\u001b[0;34m.\u001b[0m\u001b[0mget_left\u001b[0m\u001b[0;34m)\u001b[0m\u001b[0;34m+\u001b[0m\u001b[0msubsequent\u001b[0m\u001b[0;34m(\u001b[0m\u001b[0mnode\u001b[0m\u001b[0;34m.\u001b[0m\u001b[0mget_right\u001b[0m\u001b[0;34m)\u001b[0m\u001b[0;34m+\u001b[0m\u001b[0;34m[\u001b[0m\u001b[0mnode\u001b[0m\u001b[0;34m.\u001b[0m\u001b[0mget_self\u001b[0m\u001b[0;34m]\u001b[0m\u001b[0;34m\u001b[0m\u001b[0m\n\u001b[0m\u001b[1;32m     89\u001b[0m     \u001b[0;32melif\u001b[0m \u001b[0misinstance\u001b[0m\u001b[0;34m(\u001b[0m\u001b[0mnode\u001b[0m\u001b[0;34m,\u001b[0m\u001b[0mBinaryTree\u001b[0m\u001b[0;34m)\u001b[0m\u001b[0;34m:\u001b[0m\u001b[0;34m\u001b[0m\u001b[0m\n\u001b[1;32m     90\u001b[0m         \u001b[0;32mreturn\u001b[0m \u001b[0;34m[\u001b[0m\u001b[0mnode\u001b[0m\u001b[0;34m.\u001b[0m\u001b[0mget_self\u001b[0m\u001b[0;34m]\u001b[0m\u001b[0;34m\u001b[0m\u001b[0m\n",
      "\u001b[0;32m<ipython-input-88-70ccae07d8be>\u001b[0m in \u001b[0;36msubsequent\u001b[0;34m(node)\u001b[0m\n\u001b[1;32m     92\u001b[0m         \u001b[0;32mreturn\u001b[0m \u001b[0;34m[\u001b[0m\u001b[0;34m]\u001b[0m\u001b[0;34m\u001b[0m\u001b[0m\n\u001b[1;32m     93\u001b[0m     \u001b[0;32melse\u001b[0m\u001b[0;34m:\u001b[0m\u001b[0;34m\u001b[0m\u001b[0m\n\u001b[0;32m---> 94\u001b[0;31m         \u001b[0;32mraise\u001b[0m \u001b[0mValueError\u001b[0m\u001b[0;34m(\u001b[0m\u001b[0;34m'Node must be a binary tree not a %s'\u001b[0m \u001b[0;34m%\u001b[0m \u001b[0mtype\u001b[0m\u001b[0;34m(\u001b[0m\u001b[0mnode\u001b[0m\u001b[0;34m)\u001b[0m\u001b[0;34m)\u001b[0m\u001b[0;34m\u001b[0m\u001b[0m\n\u001b[0m",
      "\u001b[0;31mValueError\u001b[0m: Node must be a binary tree not a <class 'NoneType'>"
     ]
    }
   ],
   "source": [
    "subsequent_traversal = subsequent(preorder_traversal[0])"
   ]
  },
  {
   "cell_type": "code",
   "execution_count": 97,
   "metadata": {},
   "outputs": [
    {
     "data": {
      "text/plain": [
       "<__main__.BinaryTree at 0x10eb31fd0>"
      ]
     },
     "execution_count": 97,
     "metadata": {},
     "output_type": "execute_result"
    }
   ],
   "source": [
    "preorder_traversal[0]"
   ]
  },
  {
   "cell_type": "code",
   "execution_count": 98,
   "metadata": {},
   "outputs": [
    {
     "data": {
      "text/plain": [
       "[4, 2, 5, 1]"
      ]
     },
     "execution_count": 98,
     "metadata": {},
     "output_type": "execute_result"
    }
   ],
   "source": [
    "subsequent_traversal"
   ]
  },
  {
   "cell_type": "code",
   "execution_count": 99,
   "metadata": {},
   "outputs": [],
   "source": [
    "a=[1,2,4,5]"
   ]
  },
  {
   "cell_type": "code",
   "execution_count": 100,
   "metadata": {},
   "outputs": [
    {
     "data": {
      "text/plain": [
       "2"
      ]
     },
     "execution_count": 100,
     "metadata": {},
     "output_type": "execute_result"
    }
   ],
   "source": [
    "a.index(4)"
   ]
  },
  {
   "cell_type": "code",
   "execution_count": 104,
   "metadata": {},
   "outputs": [
    {
     "data": {
      "text/plain": [
       "[]"
      ]
     },
     "execution_count": 104,
     "metadata": {},
     "output_type": "execute_result"
    }
   ],
   "source": [
    "a[:a.index(1)]"
   ]
  },
  {
   "cell_type": "code",
   "execution_count": 103,
   "metadata": {},
   "outputs": [
    {
     "data": {
      "text/plain": [
       "[5]"
      ]
     },
     "execution_count": 103,
     "metadata": {},
     "output_type": "execute_result"
    }
   ],
   "source": [
    "a[a.index(5):]"
   ]
  },
  {
   "cell_type": "code",
   "execution_count": 118,
   "metadata": {},
   "outputs": [
    {
     "data": {
      "text/plain": [
       "[1, 2, 4, 5]"
      ]
     },
     "execution_count": 118,
     "metadata": {},
     "output_type": "execute_result"
    }
   ],
   "source": [
    "a"
   ]
  },
  {
   "cell_type": "code",
   "execution_count": null,
   "metadata": {},
   "outputs": [],
   "source": []
  }
 ],
 "metadata": {
  "kernelspec": {
   "display_name": "Python 3",
   "language": "python",
   "name": "python3"
  },
  "language_info": {
   "codemirror_mode": {
    "name": "ipython",
    "version": 3
   },
   "file_extension": ".py",
   "mimetype": "text/x-python",
   "name": "python",
   "nbconvert_exporter": "python",
   "pygments_lexer": "ipython3",
   "version": "3.6.4"
  }
 },
 "nbformat": 4,
 "nbformat_minor": 2
}
