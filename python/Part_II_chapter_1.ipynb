{
 "cells": [
  {
   "cell_type": "markdown",
   "metadata": {},
   "source": [
    "## Part_II_chapter_1\n",
    "\n",
    "### 二叉搜索树"
   ]
  },
  {
   "cell_type": "markdown",
   "metadata": {},
   "source": [
    "#### 问题一：\n",
    "\n",
    "给定前序序列及中序序序列，如何获得后序\n",
    "\n",
    "- 前序遍历结果：1 2 4 3 5 6\n",
    "- 中序遍历结果：4 2 1 5 3 6 \n",
    "- 后续遍历结果：？\n",
    "\n",
    "_有点像本科的时候做的课后题_"
   ]
  },
  {
   "cell_type": "code",
   "execution_count": 1,
   "metadata": {},
   "outputs": [],
   "source": [
    "from commons import how_long\n",
    "\n",
    "\n",
    "## 一个二叉树节点\n",
    "class BinaryTree():\n",
    "    '''\n",
    "    \n",
    "    '''\n",
    "    def __init__(self,value,left='',right=''):\n",
    "        self._value = value\n",
    "        self._left = left\n",
    "#         self._left_value = left_value\n",
    "        self._right = right\n",
    "#         self._right_value = right_value\n",
    "    \n",
    "    def __str__(self):\n",
    "        return '(%s,%s,%s)' % (self._value,self._left,self._right)\n",
    "\n",
    "    def add_left(self,left):\n",
    "        self._left = left\n",
    "    \n",
    "    def add_right(self,right):\n",
    "        self._right = right\n",
    "        \n",
    "    @property\n",
    "    def get_left(self):\n",
    "        return self._left\n",
    "    \n",
    "    @property\n",
    "    def get_right(self):\n",
    "        return self._right\n",
    "        \n",
    "    @property\n",
    "    def get_self(self):\n",
    "        return self._value\n",
    "    \n",
    "    @property\n",
    "    def has_left(self):\n",
    "        if self._left == '':\n",
    "            return False\n",
    "        else:\n",
    "            return True\n",
    "        \n",
    "    @property\n",
    "    def has_right(self):\n",
    "        if self._right=='':\n",
    "            return False\n",
    "        else:\n",
    "            return True\n",
    "\n",
    "        \n",
    "#前序\n",
    "def preorder(node):\n",
    "    '''\n",
    "    node is the node tree\n",
    "    '''\n",
    "    if isinstance(node,BinaryTree) and (node.has_left or node.has_right):\n",
    "        return [node.get_self]+preorder(node.get_left)+preorder(node.get_right)\n",
    "    elif isinstance(node,BinaryTree):\n",
    "        return [node.get_self]\n",
    "    elif isinstance(node,str):\n",
    "        return []\n",
    "    else:\n",
    "        print(node,type(node))\n",
    "        raise ValueError('Node must be a binary tree not a %s' % type(node))\n",
    "\n",
    "        \n",
    "#中序\n",
    "def in_order(node):\n",
    "    '''\n",
    "    node is the node tree\n",
    "    '''\n",
    "    if isinstance(node,BinaryTree) and (node.has_left or node.has_right):\n",
    "        return in_order(node.get_left)+[node.get_self]+in_order(node.get_right)\n",
    "    elif isinstance(node,BinaryTree):\n",
    "        return [node.get_self]\n",
    "    elif isinstance(node,str):\n",
    "        return []\n",
    "    else:\n",
    "        raise ValueError('Node must be a binary tree not a %s' % type(node))\n",
    "        \n",
    "#后序\n",
    "def subsequent(node):\n",
    "    '''\n",
    "    node is the node tree\n",
    "    '''\n",
    "    if isinstance(node,BinaryTree) and (node.has_left or node.has_right):\n",
    "        return subsequent(node.get_left)+subsequent(node.get_right)+[node.get_self]\n",
    "    elif isinstance(node,BinaryTree):\n",
    "        return [node.get_self]\n",
    "    elif isinstance(node,str):\n",
    "        return []\n",
    "    else:\n",
    "        raise ValueError('Node must be a binary tree not a %s' % type(node))"
   ]
  },
  {
   "cell_type": "code",
   "execution_count": 2,
   "metadata": {},
   "outputs": [],
   "source": [
    "node3 = BinaryTree(3)\n",
    "node4 = BinaryTree(4)\n",
    "node2 = BinaryTree(2,node3,node4)\n",
    "node5 = BinaryTree(5)\n",
    "node1 = BinaryTree(1,node2,node5)"
   ]
  },
  {
   "cell_type": "code",
   "execution_count": 3,
   "metadata": {},
   "outputs": [
    {
     "data": {
      "text/plain": [
       "[1, 2, 3, 4, 5]"
      ]
     },
     "execution_count": 3,
     "metadata": {},
     "output_type": "execute_result"
    }
   ],
   "source": [
    "preorder(node1)"
   ]
  },
  {
   "cell_type": "code",
   "execution_count": 4,
   "metadata": {},
   "outputs": [
    {
     "data": {
      "text/plain": [
       "[3, 2, 4, 1, 5]"
      ]
     },
     "execution_count": 4,
     "metadata": {},
     "output_type": "execute_result"
    }
   ],
   "source": [
    "in_order(node1)"
   ]
  },
  {
   "cell_type": "code",
   "execution_count": 5,
   "metadata": {},
   "outputs": [
    {
     "data": {
      "text/plain": [
       "[3, 4, 2, 5, 1]"
      ]
     },
     "execution_count": 5,
     "metadata": {},
     "output_type": "execute_result"
    }
   ],
   "source": [
    "subsequent(node1)"
   ]
  },
  {
   "cell_type": "markdown",
   "metadata": {},
   "source": [
    "## 说明\n",
    "\n",
    "上面的方法虽说可以实现前序，中序，后续遍历!\n",
    "\n",
    "- 后续需要实现树的快速构建（随机二叉树），然后如何通过前序遍历结果及中序遍历结果，构建完整二叉树。"
   ]
  },
  {
   "cell_type": "markdown",
   "metadata": {},
   "source": [
    "### 想法\n",
    "\n",
    "- 前序遍历过程中，第一个数字一定是根节点\n",
    "- 中序遍历中，一个节点(B)出现在另一个节点(A)的前面，一定因为这个节点（B）在另一个节点(A)的左边"
   ]
  },
  {
   "cell_type": "code",
   "execution_count": 6,
   "metadata": {},
   "outputs": [],
   "source": [
    "node1=BinaryTree(1)\n",
    "node2=BinaryTree(2)\n",
    "node3=BinaryTree(3)\n",
    "node4=BinaryTree(4)\n",
    "node5=BinaryTree(5)\n",
    "node6=BinaryTree(6)\n",
    "\n",
    "preorder_traversal = [node1,node2,node4,node3,node5,node6]\n",
    "\n",
    "in_order_traversal = [node4,node2,node1,node5,node3,node6]\n",
    "\n",
    "\n",
    "def get_tree_from_pre_in(pre,in_order):\n",
    "    '''\n",
    "    pre:前序遍历结果\n",
    "    in_order:中序遍历结果\n",
    "    '''\n",
    "    if len(pre) == 0:\n",
    "        return ''\n",
    "    else:\n",
    "        root = pre.pop(0)\n",
    "        index = in_order.index(root)\n",
    "        root.add_left(get_tree_from_pre_in(pre[:index],in_order[:index]))\n",
    "        root.add_right(get_tree_from_pre_in(pre[index:],in_order[index+1:]))\n",
    "        return root\n",
    "        "
   ]
  },
  {
   "cell_type": "code",
   "execution_count": 7,
   "metadata": {},
   "outputs": [
    {
     "name": "stdout",
     "output_type": "stream",
     "text": [
      "[4, 2, 5, 6, 3, 1]\n"
     ]
    }
   ],
   "source": [
    "root = get_tree_from_pre_in(preorder_traversal,in_order_traversal)\n",
    "print(subsequent(root))"
   ]
  },
  {
   "cell_type": "markdown",
   "metadata": {},
   "source": [
    "_虽说是写出来了，但是感觉这种递归的方法自己还是不太熟悉。最好是看看别人的程序，然后自己在多写一写_"
   ]
  },
  {
   "cell_type": "code",
   "execution_count": null,
   "metadata": {},
   "outputs": [],
   "source": []
  }
 ],
 "metadata": {
  "kernelspec": {
   "display_name": "Python 3",
   "language": "python",
   "name": "python3"
  },
  "language_info": {
   "codemirror_mode": {
    "name": "ipython",
    "version": 3
   },
   "file_extension": ".py",
   "mimetype": "text/x-python",
   "name": "python",
   "nbconvert_exporter": "python",
   "pygments_lexer": "ipython3",
   "version": "3.6.4"
  }
 },
 "nbformat": 4,
 "nbformat_minor": 2
}
