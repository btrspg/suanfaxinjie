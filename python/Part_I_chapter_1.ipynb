{
 "cells": [
  {
   "cell_type": "markdown",
   "metadata": {},
   "source": [
    "## 最小ID"
   ]
  },
  {
   "cell_type": "code",
   "execution_count": 1,
   "metadata": {},
   "outputs": [],
   "source": [
    "import numpy as np\n",
    "from commons import how_long\n",
    "from memory_profiler import profile"
   ]
  },
  {
   "cell_type": "code",
   "execution_count": 2,
   "metadata": {},
   "outputs": [
    {
     "name": "stdout",
     "output_type": "stream",
     "text": [
      "[171553   5506  38370]\n"
     ]
    }
   ],
   "source": [
    "## 保证每次生成的一样\n",
    "np.random.seed(1)\n",
    "# 生成20万大小的id list\n",
    "n=200000\n",
    "ids = np.random.choice(range(n+2),n,replace=False)\n",
    "if 0 not in ids:\n",
    "    ids.append(0)\n",
    "print(ids[1:4])"
   ]
  },
  {
   "cell_type": "markdown",
   "metadata": {},
   "source": [
    ">[171553   5506  38370]"
   ]
  },
  {
   "cell_type": "code",
   "execution_count": 3,
   "metadata": {},
   "outputs": [],
   "source": [
    "## 暴力方法\n",
    "@how_long\n",
    "def min_id(ids):\n",
    "    '''\n",
    "    暴力方法\n",
    "    ids:list of ids\n",
    "    \n",
    "    return min_id for create\n",
    "    '''\n",
    "    for i in range(len(ids)):\n",
    "        if not_in(i,ids):\n",
    "            return i\n",
    "#     print(len(ids))\n",
    "    return len(ids)\n",
    "\n",
    "@how_long\n",
    "def min_id_with_not_in(ids):\n",
    "    for i in range(len(ids)):\n",
    "        if i not in ids:\n",
    "            return i\n",
    "#     print(len(ids))\n",
    "    return len(ids)\n",
    "    \n",
    "\n",
    "def not_in(i,ids):\n",
    "    '''\n",
    "    检查i是否在ids中，原本可以用\n",
    "    if i not in ids\n",
    "    为了保证使用最原始方法测试，所以自己用for重新写一个\n",
    "    '''\n",
    "    for one_id in ids:\n",
    "        if i == one_id:\n",
    "            return False\n",
    "    return True\n",
    "\n",
    "## 改进一\n",
    "\n",
    "@how_long\n",
    "def min_id_change_1(ids):\n",
    "    '''\n",
    "    改进一\n",
    "    '''\n",
    "    id_index = [False] * len(ids)\n",
    "    for i in ids:\n",
    "        if i < len(ids):\n",
    "            id_index[i]=True\n",
    "    for ii in range(len(id_index)):\n",
    "        if id_index[ii] == False:\n",
    "            return ii\n",
    "#     print(len(ids))\n",
    "    return len(ids)\n",
    "\n",
    "\n",
    "\n",
    "## 改进二\n",
    "\n",
    "\n",
    "def min_id_change_2_sub(l,u,ids):\n",
    "    '''\n",
    "    改进二\n",
    "    '''\n",
    "    if len(ids)==0:\n",
    "        return l\n",
    "    else:     \n",
    "        middle = np.floor((l+u)/2)\n",
    "        small_set=[]\n",
    "        other_set=[]\n",
    "        length = len(ids)\n",
    "        for i in range(length):\n",
    "            the_number,ids = ids[-1], ids[:-1]\n",
    "            if the_number <= middle:\n",
    "                small_set.append(the_number)\n",
    "            else:\n",
    "                other_set.append(the_number)\n",
    "             \n",
    "    if len(small_set) == middle+1-l:\n",
    "        return min_id_change_2_sub(middle+1,middle+len(other_set),other_set)\n",
    "    else:\n",
    "        return min_id_change_2_sub(l,middle,small_set)\n",
    "    return result\n",
    "        \n",
    "\n",
    "\n",
    "@how_long\n",
    "def min_id_change_2(ids):\n",
    "    '''\n",
    "    递归方法\n",
    "    '''\n",
    "    result = min_id_change_2_sub(0,len(ids)-1,ids)\n",
    "#     print(result)\n",
    "    return result\n",
    "\n",
    "\n",
    "## 改进二，不是用递归，而转化成迭代\n",
    "@how_long\n",
    "def min_id_change_2_iteration(ids):\n",
    "    '''\n",
    "    迭代方法\n",
    "    '''\n",
    "    n=len(ids)\n",
    "    l=0\n",
    "    u=n-1\n",
    "    \n",
    "    while n:\n",
    "        left=0\n",
    "        middle = np.floor((u+l)/2)\n",
    "#         print(n,left,middle,l,u)\n",
    "        for right in range(int(l),int(l+n)):\n",
    "            if ids[right] <= middle:\n",
    "                tmp = ids[right]\n",
    "                ids[right]=ids[left+l]\n",
    "                ids[left+l] =tmp\n",
    "                left += 1\n",
    "#             print(ids)\n",
    "#         print('------')\n",
    "#         print(ids)\n",
    "#         print(left+l,middle - l + 1)\n",
    "        if left == middle - l + 1:\n",
    "#             print('left')\n",
    "            l = int(middle + 1)\n",
    "            u = u\n",
    "            n = n-left\n",
    "        else:\n",
    "#             print('right')\n",
    "            u = middle\n",
    "            n = left\n",
    "    return l\n",
    "\n"
   ]
  },
  {
   "cell_type": "code",
   "execution_count": 4,
   "metadata": {},
   "outputs": [
    {
     "name": "stdout",
     "output_type": "stream",
     "text": [
      "min_id() cost:99173.9058 ms!\n",
      "5192\n",
      "peak memory: 69.01 MiB, increment: 0.06 MiB\n"
     ]
    }
   ],
   "source": [
    "## 自己用for循环模仿 not in \n",
    "%memit print(min_id(ids))"
   ]
  },
  {
   "cell_type": "code",
   "execution_count": 5,
   "metadata": {},
   "outputs": [
    {
     "name": "stdout",
     "output_type": "stream",
     "text": [
      "min_id_with_not_in() cost:371.5961 ms!\n",
      "5192\n",
      "peak memory: 69.02 MiB, increment: 0.00 MiB\n"
     ]
    }
   ],
   "source": [
    "## 使用 if i not in ids\n",
    "%memit print(min_id_with_not_in(ids))"
   ]
  },
  {
   "cell_type": "code",
   "execution_count": 6,
   "metadata": {},
   "outputs": [
    {
     "name": "stdout",
     "output_type": "stream",
     "text": [
      "min_id_change_1() cost:68.5959 ms!\n",
      "5192\n",
      "min_id_change_1() cost:69.6430 ms!\n",
      "5192\n",
      "peak memory: 65.96 MiB, increment: 0.00 MiB\n"
     ]
    }
   ],
   "source": [
    "## 改进一\n",
    "%memit print(min_id_change_1(ids))"
   ]
  },
  {
   "cell_type": "code",
   "execution_count": 7,
   "metadata": {},
   "outputs": [
    {
     "name": "stdout",
     "output_type": "stream",
     "text": [
      "min_id_change_2() cost:36381.6068 ms!\n",
      "5192.0\n",
      "peak memory: 76.98 MiB, increment: 11.01 MiB\n"
     ]
    }
   ],
   "source": [
    "## 改进二 递归方法\n",
    "%memit print(min_id_change_2(ids))"
   ]
  },
  {
   "cell_type": "code",
   "execution_count": 8,
   "metadata": {},
   "outputs": [
    {
     "name": "stdout",
     "output_type": "stream",
     "text": [
      "min_id_change_2_iteration() cost:753.1919 ms!\n",
      "5192\n",
      "peak memory: 68.64 MiB, increment: 0.00 MiB\n"
     ]
    }
   ],
   "source": [
    "## 改进二 迭代方法\n",
    "%memit print(min_id_change_2_iteration(ids))"
   ]
  },
  {
   "cell_type": "markdown",
   "metadata": {},
   "source": [
    "书中提到了，改进二，由于使用了递归，所以有一个调用的栈的大小消耗在内存中，所以会使得内存的消耗增大。\n",
    "\n",
    "这还只是一个20万的id集合，而且查询的id只是5000左右，结果已经有很大差异了。\n",
    "\n",
    "如果优化的好，迭代方法的确要比递归方法好。\n",
    "\n",
    "<font color='red'>而且有一点，就是python中的内置方法`in`应该不是简单的for循环，或者是用c编译的，速度要快很多。所以在使用过程中，能使用已有的内置方法，最好就直接使用，应该会比自己写的要快。</font>"
   ]
  },
  {
   "cell_type": "markdown",
   "metadata": {},
   "source": [
    "## 丑数\n",
    "\n",
    "利用队列这种数据结构来进行丑数的查找。\n",
    "\n",
    "**需要注意的是，不是技术刚好到达n就可以停下，而是要确保最小的的计数是n才可以**\n",
    "\n",
    "不然会出现计数不对的情况，\n",
    "\n",
    "```\n",
    "[1,2,3,5]\n",
    "其实这中间应该还有一个4，[1,2,3,4,5]，但是使用queue计算的时候大小关系并不是很有顺序\n",
    "只能确定最小的一定是最小的，之后插入的一定不会比最小的小（因为是最小的*2,*3,*5得到的）\n",
    "```"
   ]
  },
  {
   "cell_type": "code",
   "execution_count": 9,
   "metadata": {},
   "outputs": [],
   "source": [
    "## 暴力方法\n",
    "\n",
    "@how_long\n",
    "def ugly_number_in_for(n):\n",
    "    '''\n",
    "    使用for暴力筛选丑数\n",
    "    '''\n",
    "    number = 0\n",
    "    count = 0\n",
    "    while count < n:\n",
    "        number += 1\n",
    "#         print(number,count)\n",
    "        if is_ugly(number):\n",
    "#             print(number)\n",
    "            count +=1            \n",
    "    return number\n",
    "  \n",
    "def is_ugly(n):\n",
    "    '''\n",
    "    判断是否为丑数\n",
    "    '''\n",
    "    while n % 2 ==0:\n",
    "        n = n/2\n",
    "    while n % 3 ==0:\n",
    "        n = n/3\n",
    "    while n% 5 ==0:\n",
    "        n = n/5\n",
    "    if n== 1:\n",
    "        return True\n",
    "    else:\n",
    "        return False\n",
    "\n",
    "@how_long\n",
    "def ugly_number_queue(n):\n",
    "    '''\n",
    "    使用queue\n",
    "    '''\n",
    "    count =1\n",
    "    queue=[1]\n",
    "    has_dis =[]\n",
    "    while count<n:\n",
    "        number = queue.pop(0)\n",
    "        fn = len(queue)\n",
    "        for mult in [2,3,5]:\n",
    "            tmp = mult * number\n",
    "            if tmp not in has_dis:\n",
    "                has_dis.append(tmp)\n",
    "                queue.append(tmp)\n",
    "        queue=sorted(set(queue))\n",
    "#         print(queue)\n",
    "#         print(queue,count)\n",
    "        an = len(queue)\n",
    "        count += 1\n",
    "    return queue[0]\n",
    "\n",
    "\n",
    "@how_long\n",
    "def ugly_number_dif_queue(n):\n",
    "    '''\n",
    "    分队列queue\n",
    "    '''\n",
    "    count = 1\n",
    "    min_n=1\n",
    "    queue2=[2]\n",
    "    queue3=[3]\n",
    "    queue5=[5]\n",
    "    while count<n:\n",
    "        min_n = min(queue2[0],queue3[0],queue5[0])\n",
    "        if queue2[0] == min_n:\n",
    "            queue2.pop(0)\n",
    "            queue2.append(2*min_n)\n",
    "            queue3.append(3*min_n)\n",
    "            queue5.append(5*min_n)\n",
    "        elif queue3[0] == min_n:\n",
    "            queue3.pop(0)\n",
    "            queue3.append(3*min_n)\n",
    "            queue5.append(5*min_n)\n",
    "        else:\n",
    "            queue5.pop(0)\n",
    "            queue5.append(5*min_n)\n",
    "        count += 1\n",
    "        \n",
    "    sort_queue=sorted(queue2+queue3+queue5)\n",
    "    return min_n"
   ]
  },
  {
   "cell_type": "code",
   "execution_count": 10,
   "metadata": {},
   "outputs": [
    {
     "name": "stdout",
     "output_type": "stream",
     "text": [
      "ugly_number_in_for() cost:560.6701 ms!\n",
      "937500\n"
     ]
    }
   ],
   "source": [
    "print(ugly_number_in_for(500))"
   ]
  },
  {
   "cell_type": "code",
   "execution_count": 11,
   "metadata": {},
   "outputs": [
    {
     "name": "stdout",
     "output_type": "stream",
     "text": [
      "ugly_number_queue() cost:23.5658 ms!\n",
      "937500\n"
     ]
    }
   ],
   "source": [
    "print(ugly_number_queue(500))"
   ]
  },
  {
   "cell_type": "code",
   "execution_count": 12,
   "metadata": {},
   "outputs": [
    {
     "name": "stdout",
     "output_type": "stream",
     "text": [
      "ugly_number_dif_queue() cost:0.4091 ms!\n",
      "937500\n"
     ]
    }
   ],
   "source": [
    "print(ugly_number_dif_queue(500))"
   ]
  },
  {
   "cell_type": "markdown",
   "metadata": {},
   "source": [
    "**差异很明显啊**"
   ]
  }
 ],
 "metadata": {
  "kernelspec": {
   "display_name": "Python 3",
   "language": "python",
   "name": "python3"
  },
  "language_info": {
   "codemirror_mode": {
    "name": "ipython",
    "version": 3
   },
   "file_extension": ".py",
   "mimetype": "text/x-python",
   "name": "python",
   "nbconvert_exporter": "python",
   "pygments_lexer": "ipython3",
   "version": "3.6.4"
  }
 },
 "nbformat": 4,
 "nbformat_minor": 2
}
