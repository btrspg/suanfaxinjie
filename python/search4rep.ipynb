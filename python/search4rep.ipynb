{
 "cells": [
  {
   "cell_type": "markdown",
   "metadata": {},
   "source": [
    "# Burrows–Wheeler transform检测基因组中重复序列\n",
    "\n",
    "参考：Li, H., & Durbin, R. (2009). Fast and accurate short read alignment with Burrows–Wheeler transform. bioinformatics, 25(14), 1754-1760."
   ]
  },
  {
   "cell_type": "markdown",
   "metadata": {
    "collapsed": true
   },
   "source": [
    "- Burrows–Wheeler transform\n",
    "- C(.)\n",
    "- O(.)\n",
    "- S(.)\n",
    "\n",
    "模拟比对（exact matching）"
   ]
  },
  {
   "cell_type": "code",
   "execution_count": 1,
   "metadata": {},
   "outputs": [],
   "source": [
    "from commons import how_long\n",
    "# Burrows–Wheeler transform\n",
    "# 格式与BWA index产出不同\n",
    "\n",
    "def bwt(seq):\n",
    "    '''\n",
    "    Burrows–Wheeler transform\n",
    "    格式与BWA index产出不同\n",
    "    '''\n",
    "    n = len(seq)\n",
    "    m = [seq[i:n]+seq[0:i] for i in range(n)]\n",
    "    sort_m = sorted(m)\n",
    "#     for i,s in enumerate(m):\n",
    "#         print('{}\\t{}'.format(i,s))\n",
    "#     print('--'*20)\n",
    "#     for i,s in enumerate(sort_m):\n",
    "#         print('{}\\t{}'.format(i,s))\n",
    "    B = ''.join([q[-1] for q in sort_m])\n",
    "    S = list(map(lambda x:m.index(x),sort_m))\n",
    "    return B,S\n",
    "\n",
    "\n",
    "## C(.)\n",
    "def cal_c(seq):\n",
    "    '''\n",
    "    C(.)\n",
    "    '''\n",
    "    count_a = seq.count('A')\n",
    "    count_t = seq.count('T')\n",
    "    count_c = seq.count('C')\n",
    "    count_g = seq.count('G')\n",
    "    c_dict = {\n",
    "        'A':0,\n",
    "        'C':count_a,\n",
    "        'G':count_a+count_c,\n",
    "        'T':count_a+count_c+count_g\n",
    "    }\n",
    "    return c_dict\n",
    "\n",
    "## test C(.)\n",
    "def cal_c_go(seq):\n",
    "    '''\n",
    "    test C(.)\n",
    "    '''\n",
    "    count_g = seq.count('g')\n",
    "    count_o = seq.count('o')\n",
    "    count_l = seq.count('l')\n",
    "\n",
    "    c_dict = {\n",
    "        'g':0,\n",
    "        'o':count_g+count_l,\n",
    "        'l':count_g,\n",
    "    }\n",
    "    return c_dict\n",
    "\n",
    "## O(.)\n",
    "def cal_o(bwt_seq):\n",
    "    '''\n",
    "    O(.)\n",
    "    '''\n",
    "    O = {}\n",
    "    alphabet=set(bwt_seq)\n",
    "    n = len(bwt_seq)\n",
    "    for i in range(n):\n",
    "        for alp in alphabet:\n",
    "            O.setdefault(alp,{})\n",
    "            O[alp][i]=bwt_seq[0:i+1].count(alp)\n",
    "    return O\n",
    "\n",
    "## test exact mapping\n",
    "def map_on_genome(seq,C,O,S):\n",
    "    '''\n",
    "    test exact mapping\n",
    "    '''\n",
    "    loc = 0\n",
    "    n = len(S)\n",
    "    R_low_aw = 1\n",
    "    R_top_aw = n-1\n",
    "    alp_len = len(seq)\n",
    "    while R_low_aw <= R_top_aw and alp_len > 0:\n",
    "        alp = seq[alp_len-1]\n",
    "        R_low_aw = C[alp] + O[alp][R_low_aw - 1] + 1\n",
    "        R_top_aw = C[alp] + O[alp][R_top_aw]\n",
    "        alp_len = alp_len-1\n",
    "#         print(R_low_aw,R_top_aw)\n",
    "    return S[R_low_aw:R_top_aw+1]\n",
    "\n",
    "@how_long\n",
    "def search_rep(rep,C,O,S):\n",
    "    '''\n",
    "    search rep\n",
    "    '''\n",
    "    loc = 0\n",
    "    n = len(S)\n",
    "    R_low_aw = 1\n",
    "    R_top_aw = n-1\n",
    "    alp_len = len(rep)\n",
    "    n_term = 0\n",
    "    while R_low_aw <= R_top_aw:\n",
    "        n_term += 1\n",
    "        final_l = R_low_aw\n",
    "        final_t = R_top_aw\n",
    "        for i in range(alp_len):\n",
    "            alp = rep[alp_len-1-i]\n",
    "            R_low_aw = C[alp] + O[alp][R_low_aw - 1] + 1\n",
    "            R_top_aw = C[alp] + O[alp][R_top_aw]\n",
    "#         print(n_term)\n",
    "        \n",
    "#         print(R_low_aw,R_top_aw)\n",
    "    return S[final_l:final_t+1],(n_term-1)*alp_len"
   ]
  },
  {
   "cell_type": "markdown",
   "metadata": {},
   "source": [
    "## 模拟数据测试"
   ]
  },
  {
   "cell_type": "code",
   "execution_count": 2,
   "metadata": {},
   "outputs": [],
   "source": [
    "import random\n",
    "random.seed(1)\n",
    "k=100\n",
    "genome=''.join(random.choices(['A','T','C','G'],k=k)+['$'])\n",
    "# googol='googol$'\n",
    "# genome=googol\n",
    "B,S=bwt(genome)\n",
    "C=cal_c(genome)\n",
    "# C=cal_c_go(genome)\n",
    "O=cal_o(B)\n",
    "\n",
    "# print('--'*20)\n",
    "# print('genmoe: {}'.format(genome))\n",
    "# print('--'*20)\n",
    "# print('B: {}'.format(B))\n",
    "# print('--'*20)\n",
    "# print('S: {}'.format(S))\n",
    "# print('--'*20)\n",
    "# print('C: {}'.format(C))\n",
    "# print('--'*20)\n",
    "# print('O: {}'.format(O))"
   ]
  },
  {
   "cell_type": "markdown",
   "metadata": {},
   "source": [
    "### exact mapping"
   ]
  },
  {
   "cell_type": "code",
   "execution_count": 3,
   "metadata": {},
   "outputs": [
    {
     "name": "stdout",
     "output_type": "stream",
     "text": [
      "AGG-\"TTTCGAA\"-GTGATCAGGAACGTATAATTAAATTAGCCAGGATCCGTGCTCGGCCAAGTACCCTTCGCTTAACGCTACGGCGACGCTTCGAGGGCGCCT$\n",
      "----------------------------------------\n",
      "AGGTTTCGAAGTGATCAGGAACGTATAATTAAATT-\"AG\"-CCAGGATCCGTGCTCGGCCAAGTACCCTTCGCTTAACGCTACGGCGACGCTTCGAGGGCGCCT$\n",
      "AGGTTTCGAAGTGATC-\"AG\"-GAACGTATAATTAAATTAGCCAGGATCCGTGCTCGGCCAAGTACCCTTCGCTTAACGCTACGGCGACGCTTCGAGGGCGCCT$\n",
      "AGGTTTCGAAGTGATCAGGAACGTATAATTAAATTAGCC-\"AG\"-GATCCGTGCTCGGCCAAGTACCCTTCGCTTAACGCTACGGCGACGCTTCGAGGGCGCCT$\n",
      "AGGTTTCGAAGTGATCAGGAACGTATAATTAAATTAGCCAGGATCCGTGCTCGGCCAAGTACCCTTCGCTTAACGCTACGGCGACGCTTCG-\"AG\"-GGCGCCT$\n",
      "-\"AG\"-GTTTCGAAGTGATCAGGAACGTATAATTAAATTAGCCAGGATCCGTGCTCGGCCAAGTACCCTTCGCTTAACGCTACGGCGACGCTTCGAGGGCGCCT$\n",
      "AGGTTTCGAAGTGATCAGGAACGTATAATTAAATTAGCCAGGATCCGTGCTCGGCCA-\"AG\"-TACCCTTCGCTTAACGCTACGGCGACGCTTCGAGGGCGCCT$\n",
      "AGGTTTCGA-\"AG\"-TGATCAGGAACGTATAATTAAATTAGCCAGGATCCGTGCTCGGCCAAGTACCCTTCGCTTAACGCTACGGCGACGCTTCGAGGGCGCCT$\n"
     ]
    }
   ],
   "source": [
    "w='TTTCGAA'\n",
    "locs = map_on_genome(w,C,O,S)\n",
    "_=list(map(lambda x:print('{}-\"{}\"-{}'.format(genome[0:x],genome[x:len(w)+x],genome[len(w)+x:len(genome)])),locs))\n",
    "print('--'*20)\n",
    "w='AG'\n",
    "locs=map_on_genome(w,C,O,S)\n",
    "_=list(map(lambda x:print('{}-\"{}\"-{}'.format(genome[0:x],genome[x:len(w)+x],genome[len(w)+x:len(genome)])),locs))"
   ]
  },
  {
   "cell_type": "markdown",
   "metadata": {},
   "source": [
    "### rep search"
   ]
  },
  {
   "cell_type": "code",
   "execution_count": 4,
   "metadata": {},
   "outputs": [
    {
     "name": "stdout",
     "output_type": "stream",
     "text": [
      "search_rep() cost:0.0088 ms!\n",
      "locs:[35, 16, 39, 91, 0, 57, 9]\n",
      "length:2\n"
     ]
    }
   ],
   "source": [
    "rep='AG'\n",
    "locs,length=search_rep(rep,C,O,S)\n",
    "print('locs:{locs}\\nlength:{length}'.format(**locals()))"
   ]
  },
  {
   "cell_type": "markdown",
   "metadata": {},
   "source": [
    "### rep search 2\n",
    "\n",
    "人为添加了部分重复\n",
    "\n",
    "AGGTTTCGAAGTGATC<font color='red' fontsizs=8>ACACACACAC</font>AGGAACGTA"
   ]
  },
  {
   "cell_type": "code",
   "execution_count": 5,
   "metadata": {},
   "outputs": [],
   "source": [
    "test_genome='AGGTTTCGAAGTGATCAGGAACGTA$'\n",
    "test_B,test_S=bwt(test_genome)\n",
    "test_C=cal_c(test_genome)\n",
    "test_O=cal_o(test_B)\n",
    "\n",
    "# print('--'*20)\n",
    "# print('genmoe: {}'.format(test_genome))\n",
    "# print('--'*20)\n",
    "# print('B: {}'.format(test_B))\n",
    "# print('--'*20)\n",
    "# print('S: {}'.format(test_S))\n",
    "# print('--'*20)\n",
    "# print('C: {}'.format(test_C))\n",
    "# print('--'*20)\n",
    "# print('O: {}'.format(test_O))"
   ]
  },
  {
   "cell_type": "code",
   "execution_count": 6,
   "metadata": {},
   "outputs": [
    {
     "name": "stdout",
     "output_type": "stream",
     "text": [
      "search_rep() cost:0.0088 ms!\n",
      "locs:[16, 0, 9]\n",
      "length:2\n",
      "search_rep() cost:0.0122 ms!\n",
      "locs:[20]\n",
      "length:2\n"
     ]
    }
   ],
   "source": [
    "rep='AG'\n",
    "locs,length=search_rep(rep,test_C,test_O,test_S)\n",
    "print('locs:{locs}\\nlength:{length}'.format(**locals()))\n",
    "rep='AC'\n",
    "locs,length=search_rep(rep,test_C,test_O,test_S)\n",
    "print('locs:{locs}\\nlength:{length}'.format(**locals()))"
   ]
  },
  {
   "cell_type": "markdown",
   "metadata": {},
   "source": [
    "### rep search 3\n",
    "\n",
    "测试10K基因组速度(bwt需要优化，电脑跑不了太大基因组)"
   ]
  },
  {
   "cell_type": "code",
   "execution_count": 7,
   "metadata": {},
   "outputs": [],
   "source": [
    "from numpy import ceil\n",
    "random.seed(1)\n",
    "k=10000\n",
    "genome=''.join(random.choices(['A','T','C','G'],k=k)+['$'])\n",
    "B,S=bwt(genome)\n",
    "C=cal_c(genome)\n",
    "O=cal_o(B)\n",
    "\n",
    "with open('../demo_data/test_genome','w') as f:\n",
    "    for i in range(int(ceil(len(genome)/60))):\n",
    "        f.write(genome[i*60:(i+1)*60]+'\\n')"
   ]
  },
  {
   "cell_type": "code",
   "execution_count": 8,
   "metadata": {},
   "outputs": [
    {
     "name": "stdout",
     "output_type": "stream",
     "text": [
      "read_file() cost:0.7591 ms!\n"
     ]
    }
   ],
   "source": [
    "# 只是测试读取时间\n",
    "@how_long\n",
    "def read_file(file):\n",
    "    with open(file,'r') as f:\n",
    "        line = f.readline()\n",
    "        while line:\n",
    "            line = f.readline()\n",
    "\n",
    "read_file('../demo_data/test_genome')"
   ]
  },
  {
   "cell_type": "code",
   "execution_count": 9,
   "metadata": {},
   "outputs": [
    {
     "name": "stdout",
     "output_type": "stream",
     "text": [
      "search_rep() cost:0.0210 ms!\n",
      "locs:[9946]\n",
      "length:8\n"
     ]
    }
   ],
   "source": [
    "rep = 'AT'\n",
    "locs,length=search_rep(rep,C,O,S)\n",
    "print('locs:{locs}\\nlength:{length}'.format(**locals()))"
   ]
  },
  {
   "cell_type": "markdown",
   "metadata": {},
   "source": [
    "## 补充说明\n",
    "\n",
    "这一部分做的是同样的事情，只是思路是刚刚想到的，如果可以的话，代码量会少，而且速度会快，但是只限于做这样一件事情。\n",
    "\n",
    "假设序列为：\n",
    "AGGTTTCGAAGTGATCACACACACACAGGAACGTA\n",
    "我要查找这个序列中两个碱基不断重复的部分，我将序列向右移动两个碱基（如果查三个碱基不断重复，就移动三个碱基），然后使用‘-’或者位运算的某种方式，使得上下碱基相同，则取0，其他情况取1\n",
    "\n",
    "```\n",
    "AGGTTTCGAAGTGATCACACACACACAGGAACGTA\n",
    "  AGGTTTCGAAGTGATCACACACACACAGGAACGTA\n",
    "------------------------------------\n",
    "11111011111101111000000000011111111\n",
    "```\n",
    "\n",
    "这样我只用找下面这个10序列中最长的连续0就可以知道重复序列出现在哪，长度为多少。"
   ]
  },
  {
   "cell_type": "code",
   "execution_count": 10,
   "metadata": {},
   "outputs": [],
   "source": [
    "random.seed(1)\n",
    "k=10000\n",
    "#查找长度为2的重复\n",
    "genome=''.join(random.choices(['A','T','C','G'],k=k))\n"
   ]
  },
  {
   "cell_type": "code",
   "execution_count": 11,
   "metadata": {},
   "outputs": [],
   "source": [
    "@how_long\n",
    "def search_rep2(genome,n=2):\n",
    "    push_genome = genome[n:len(genome)]+'N'*n\n",
    "    true_false = [int(genome[i] == push_genome[i]) for i in range(len(genome))]\n",
    "    temp_max_length = 0\n",
    "    temp_max_loc = []\n",
    "    temp_start_loc = 0\n",
    "    length =0\n",
    "    is_seq=False\n",
    "    for i,j in enumerate(true_false):\n",
    "    #     print(i,j)\n",
    "        if j == 1:\n",
    "            if is_seq==False:\n",
    "                is_seq = True\n",
    "                temp_start_loc=i\n",
    "                length +=1\n",
    "            else:\n",
    "                length += 1\n",
    "        else:\n",
    "            if is_seq==True:\n",
    "    #             print(length,temp_max_length,n)\n",
    "                if length > temp_max_length and length >=n:\n",
    "                    temp_max_length=length -length % n\n",
    "                    temp_max_loc = [temp_start_loc]\n",
    "                elif length == temp_max_length >=n:\n",
    "                    temp_max_loc.append(temp_start_loc)\n",
    "                is_seq=False\n",
    "                length = 0 \n",
    "    return n,temp_max_loc,temp_max_length\n",
    "    \n"
   ]
  },
  {
   "cell_type": "code",
   "execution_count": 12,
   "metadata": {},
   "outputs": [
    {
     "name": "stdout",
     "output_type": "stream",
     "text": [
      "search_rep2() cost:4.7472 ms!\n",
      "loc:9946\n",
      "length:8\n",
      "seq:ATATATAT\n",
      "----------\n",
      "\n"
     ]
    }
   ],
   "source": [
    "n,temp_max_loc,temp_max_length = search_rep2(genome,n=2)\n",
    "if temp_max_length < 2:\n",
    "    print('no result')\n",
    "else:\n",
    "    for loc in temp_max_loc:\n",
    "        print('loc:{}\\nlength:{}\\nseq:{}\\n----------\\n'.format(loc,temp_max_length+n,genome[loc:loc+temp_max_length+n]))"
   ]
  },
  {
   "cell_type": "code",
   "execution_count": null,
   "metadata": {},
   "outputs": [],
   "source": []
  }
 ],
 "metadata": {
  "kernelspec": {
   "display_name": "Python 3",
   "language": "python",
   "name": "python3"
  },
  "language_info": {
   "codemirror_mode": {
    "name": "ipython",
    "version": 3
   },
   "file_extension": ".py",
   "mimetype": "text/x-python",
   "name": "python",
   "nbconvert_exporter": "python",
   "pygments_lexer": "ipython3",
   "version": "3.6.4"
  }
 },
 "nbformat": 4,
 "nbformat_minor": 1
}
